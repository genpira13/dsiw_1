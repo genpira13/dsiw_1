{
  "nbformat": 4,
  "nbformat_minor": 0,
  "metadata": {
    "colab": {
      "provenance": []
    },
    "kernelspec": {
      "name": "python3",
      "display_name": "Python 3"
    },
    "language_info": {
      "name": "python"
    }
  },
  "cells": [
    {
      "cell_type": "code",
      "execution_count": null,
      "metadata": {
        "id": "RM-robg3GzR8"
      },
      "outputs": [],
      "source": [
        "import pandas as pd\n",
        "import matplotlib.pyplot as plt\n",
        "import ipywidgets as widgets\n",
        "from IPython.display import display\n",
        "\n",
        "# Function to read the dataset and preprocess\n",
        "def read_and_preprocess(file_path):\n",
        "    weather_data = pd.read_csv(file_path)\n",
        "    weather_data['time'] = pd.to_datetime(weather_data['time'])\n",
        "    weather_data.set_index('time', inplace=True)\n",
        "    weather_data['Ftemp'] = (weather_data['Ktemp'] - 273.15) * 9/5 + 32\n",
        "    return weather_data\n",
        "\n",
        "# Function to plot the graph\n",
        "def plot_graph(year, weather_data):\n",
        "    plt.close('all')  # Close previous plots to prevent memory leak\n",
        "    fig, ax = plt.subplots(figsize=(10, 5))\n",
        "    year_data = weather_data[weather_data.index.year == year]\n",
        "    monthly_avg_temp = year_data.groupby(year_data.index.month)['Ftemp'].mean()\n",
        "    ax.scatter(monthly_avg_temp.index, monthly_avg_temp.values)  # Changed to scatter plot here\n",
        "    ax.set_title(f'Average Monthly Temperature in {year}')\n",
        "    ax.set_xlabel('Month')\n",
        "    ax.set_xticks(range(1, 13))  # Set x-ticks to show all months\n",
        "    ax.set_xticklabels(['Jan', 'Feb', 'Mar', 'Apr', 'May', 'Jun', 'Jul', 'Aug', 'Sep', 'Oct', 'Nov', 'Dec'])\n",
        "    ax.set_ylabel('Average Temperature (°F)')\n",
        "    ax.grid(True)\n",
        "    plt.show()\n",
        "\n",
        "# Assuming 'weather.csv' is your file path\n",
        "file_path = 'weather.csv'  # replace with the path to your CSV file\n",
        "weather_data = read_and_preprocess(file_path)\n",
        "\n",
        "# Assuming the data contains the following years (replace with actual years from the dataset)\n",
        "years = weather_data.index.year.unique()\n",
        "year_slider = widgets.IntSlider(min=min(years), max=max(years), step=1, description='Select Year:', value=min(years))\n",
        "\n",
        "# Create an interactive widget for the slider\n",
        "widgets.interactive(lambda year: plot_graph(year, weather_data), year=year_slider)"
      ]
    }
  ]
}